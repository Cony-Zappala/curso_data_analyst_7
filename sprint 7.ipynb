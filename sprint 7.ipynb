{
 "cells": [
  {
   "cell_type": "markdown",
   "metadata": {},
   "source": [
    "## NIVEL 1\n",
    "## Exercici 1\n",
    "Calculadora de l'índex de massa corporal\n",
    "\n",
    "Escriu una funció que calculi l'IMC ingressat per l'usuari/ària, és a dir, qui ho executi haurà d'ingressar aquestes dades. Pots obtenir més informació del seu càlcul en:\n",
    "\n",
    "-> Índice de masa corporal IMC que es y como se calcula.\n",
    "\n",
    "La funció ha de classificar el resultat en les seves respectives categories"
   ]
  },
  {
   "cell_type": "markdown",
   "metadata": {},
   "source": [
    "Comentarios: \n",
    "La función en este caso no devuelve nada (no hay puesto un return), pero   \n",
    "sí imprime los resultados. Lo hice así porque me parece más claro exponerlo de esta manera.  \n",
    "\n",
    "Procedimiento: se le solicita al usuario que complete su peso en kg y su altura en metros.   \n",
    "Con esra información, la función calcula el imc de dicho usuario y (dependiendo del resultado  \n",
    "de ese cálculo) le responde dentro de qué rango se encuentra y cuál es el imc calculado.  "
   ]
  },
  {
   "cell_type": "code",
   "execution_count": 1,
   "metadata": {},
   "outputs": [
    {
     "name": "stdout",
     "output_type": "stream",
     "text": [
      "Te encuentras en el rango de Peso Normal\n",
      "24.80\n"
     ]
    }
   ],
   "source": [
    "def imc_usuario():\n",
    "    peso = input ('Ingresa tu peso expresado en kilogramos por favor')\n",
    "    altura = input ('Ingresa tu altura expresada en metros por favor')\n",
    "    resultado = float(peso) / (float(altura) * float(altura))\n",
    "    if resultado > 30:\n",
    "        print(\"Te encuentras en el rango de Obesidad\")\n",
    "    elif resultado > 25 and resultado < 29.9 :\n",
    "        print (\"Te encuentras en el rango de Sobrepeso\")\n",
    "    elif resultado > 18.5 and resultado < 24.9 :\n",
    "        print(\"Te encuentras en el rango de Peso Normal\")\n",
    "    else:\n",
    "        print(\"Te encuentras en el rango de Bajo Peso\")\n",
    "    print(\"{:.2f}\".format(resultado))\n",
    "   \n",
    "\n",
    "imc_usuario()\n"
   ]
  },
  {
   "cell_type": "markdown",
   "metadata": {},
   "source": [
    "## Exercici 2\n",
    "Convertidor de temperatures.\n",
    "\n",
    "Existeixen diverses unitats de temperatura utilitzades en diferents contextos i regions. Les més comunes són Celsius (°C), Fahrenheit (°F) i Kelvin (K). També existeixen altres unitats com Rankine (°Ra) i Réaumur (°Re). Selecciona almenys 2 i construeix el convertidor.\n",
    "\n",
    "\n"
   ]
  },
  {
   "cell_type": "markdown",
   "metadata": {},
   "source": [
    "Comentarios:\n",
    "\n",
    "Cómo Convertir Temperaturas (datos obtenidos en internet)  \n",
    "Para convertir de ºC a ºF use la fórmula: ºF = ºC x 1.8 + 32.  \n",
    "Para convertir de ºF a ºC use la fórmula: ºC = (ºF-32) ÷ 1.8.  \n",
    "Para convertir de K a ºC use la fórmula: ºC = K – 273.15.  \n",
    "Para convertir de ºC a K use la fórmula: K = ºC + 273.15.  "
   ]
  },
  {
   "cell_type": "markdown",
   "metadata": {},
   "source": [
    "En el caso de convertir de F a K (y al revés), como no tengo la fórmula   \n",
    "he convertido primero a C y luego a la unidad de destino\n",
    "\n",
    "Entonces utilizando una función que tiene como parámetros la temperatura y dos   \n",
    "diferentes unidades de medida podemos calcular las equivalencias.   \n",
    "He realizado comprobaciones (test) para confirmar que el convertidor funciona correctamente."
   ]
  },
  {
   "cell_type": "code",
   "execution_count": 9,
   "metadata": {},
   "outputs": [
    {
     "name": "stdout",
     "output_type": "stream",
     "text": [
      "Convertir 10 grados Celsius a Fahrenheit: Resultado obtenido = 50.0, Resultado esperado = 50\n",
      "Convertir 10 grados Fahrenheit a Celsius: Resultado obtenido = -12.222222222222221, Resultado esperado = -12.22\n",
      "Convertir 1000 grados Kelvin a Celsius: Resultado obtenido = 726.85, Resultado esperado = 726.85\n",
      "Convertir 1000 grados Celsius a Kelvin: Resultado obtenido = 1273.15, Resultado esperado = 1273.15\n",
      "Convertir 50 grados Fahrenheit a Kelvin: Resultado obtenido = 283.15, Resultado esperado = 283.15\n",
      "Convertir 50 grados Kelvin a Fahrenheit: Resultado obtenido = -369.66999999999996, Resultado esperado = -369.67\n"
     ]
    }
   ],
   "source": [
    "def convertidor(temp, unidad_origen, unidad_destino):\n",
    "    if unidad_origen == \"C\" and unidad_destino == \"F\":\n",
    "        C_F = (temp * 1.8) + 32\n",
    "        return C_F\n",
    "    elif unidad_origen == \"F\" and unidad_destino == \"C\":\n",
    "        F_C = (temp - 32) / 1.8\n",
    "        return F_C\n",
    "    elif unidad_origen == \"K\" and unidad_destino == \"C\":\n",
    "        K_C = temp - 273.15\n",
    "        return K_C\n",
    "    elif unidad_origen == \"C\" and unidad_destino == \"K\":\n",
    "        C_K = temp + 273.15\n",
    "        return C_K\n",
    "    elif unidad_origen == \"F\" and unidad_destino == \"K\":\n",
    "        x = (temp - 32) / 1.8\n",
    "        F_K = x + 273.15\n",
    "        return F_K\n",
    "    elif unidad_origen == \"K\" and unidad_destino == \"F\":\n",
    "        w = temp - 273.15\n",
    "        K_F = (w*1.8) + 32\n",
    "        return K_F\n",
    "    return \"No es una unidad de temperatura válida\"\n",
    "\n",
    "resultado = convertidor(10, \"C\", \"F\")\n",
    "resultado_esperado = 50\n",
    "print(f\"Convertir 10 grados Celsius a Fahrenheit: Resultado obtenido = {resultado}, Resultado esperado = {resultado_esperado}\")\n",
    "\n",
    "resultado = convertidor(10, \"F\", \"C\")\n",
    "resultado_esperado = -12.22\n",
    "print(f\"Convertir 10 grados Fahrenheit a Celsius: Resultado obtenido = {resultado}, Resultado esperado = {resultado_esperado}\")\n",
    "\n",
    "resultado = convertidor(1000, \"K\", \"C\")\n",
    "resultado_esperado = 726.85\n",
    "print(f\"Convertir 1000 grados Kelvin a Celsius: Resultado obtenido = {resultado}, Resultado esperado = {resultado_esperado}\")\n",
    "\n",
    "resultado = convertidor(1000, \"C\", \"K\")\n",
    "resultado_esperado = 1273.15\n",
    "print(f\"Convertir 1000 grados Celsius a Kelvin: Resultado obtenido = {resultado}, Resultado esperado = {resultado_esperado}\")\n",
    "\n",
    "resultado = convertidor(50, \"F\", \"K\")\n",
    "resultado_esperado = 283.15\n",
    "print(f\"Convertir 50 grados Fahrenheit a Kelvin: Resultado obtenido = {resultado}, Resultado esperado = {resultado_esperado}\")\n",
    "\n",
    "resultado = convertidor(50, \"K\", \"F\")\n",
    "resultado_esperado = -369.67\n",
    "print(f\"Convertir 50 grados Kelvin a Fahrenheit: Resultado obtenido = {resultado}, Resultado esperado = {resultado_esperado}\")\n"
   ]
  },
  {
   "cell_type": "markdown",
   "metadata": {},
   "source": [
    "## Exercici 3\n",
    "Comptador de paraules d'un text.\n",
    "\n",
    "Escriu una funció que donat un text, mostri les vegades que apareix cada paraula."
   ]
  },
  {
   "cell_type": "markdown",
   "metadata": {},
   "source": [
    "Comentarios: Para este caso he utilizado la teoría que se explica aquí https://www.google.com/search?q=como+contar+cuantas+veces+aparece+cada+palabra+en+un+texto+en+python&sca_esv=245dc9e7f862aecc&sca_upv=1&rlz=1C1UEAD_esES1079ES1079&sxsrf=ACQVn0_6efqsy6yOvawsPxCOnwiGSfojdQ%3A1714638979977&ei=g1AzZvqXO6qYkdUP8oaf0Ao&ved=0ahUKEwi65cb6x-6FAxUqTKQEHXLDB6oQ4dUDCBA&uact=5&oq=como+contar+cuantas+veces+aparece+cada+palabra+en+un+texto+en+python&gs_lp=Egxnd3Mtd2l6LXNlcnAiRGNvbW8gY29udGFyIGN1YW50YXMgdmVjZXMgYXBhcmVjZSBjYWRhIHBhbGFicmEgZW4gdW4gdGV4dG8gZW4gcHl0aG9uSNBwUP8JWOVmcAF4AZABAJgBjwGgAZ0SqgEEMS4xObgBA8gBAPgBAZgCDKACpgrCAgoQABiwAxjWBBhHwgIKECEYoAEYwwQYCsICBxAjGLACGCfCAggQABiABBiiBMICCBAhGKABGMMEmAMAiAYBkAYIkgcEMS4xMaAHils&sclient=gws-wiz-serp#fpstate=ive&vld=cid:3f9f224b,vid:hKl55DhuWKs,st:0"
   ]
  },
  {
   "cell_type": "markdown",
   "metadata": {},
   "source": [
    "En este caso primero he escrito un \"texto\" para poder confirmar que la función funcione correctamente.  \n",
    "Luego con \"quitar\" quito todo lo que no son palabras para que no las cuente como palabras. Y todo lo guardo en \"texto\".  \n",
    "A ese texto lo pongo todo en letras minúsculas pues el sistema sino diferencia las palabras en mayúsculas y minúsculas.  \n",
    "Y confirmo que entre las palabras haya una separación.  \n",
    "Luego determino un diccionario que se llama \"frecuencia_palabras\" en donde si la palabra ya existe le suma una aparición   y sino la agrega al diccionario.  \n",
    "Por último, recorro ese diccionario para que realice el recuento e imprimo una frase que indica la cantidad   \n",
    "de veces que aparece una palabra.  \n",
    "\n"
   ]
  },
  {
   "cell_type": "code",
   "execution_count": 15,
   "metadata": {},
   "outputs": [
    {
     "name": "stdout",
     "output_type": "stream",
     "text": [
      "La palabra 'había' tiene una frecuencia de 1\n",
      "La palabra 'una' tiene una frecuencia de 5\n",
      "La palabra 'vez' tiene una frecuencia de 1\n",
      "La palabra 'gata' tiene una frecuencia de 1\n",
      "La palabra 'con' tiene una frecuencia de 2\n",
      "La palabra 'manchita' tiene una frecuencia de 1\n",
      "La palabra 'negra' tiene una frecuencia de 1\n",
      "La palabra 'en' tiene una frecuencia de 2\n",
      "La palabra 'la' tiene una frecuencia de 1\n",
      "La palabra 'trompa' tiene una frecuencia de 1\n",
      "La palabra 'y' tiene una frecuencia de 1\n",
      "La palabra 'vivía' tiene una frecuencia de 1\n",
      "La palabra 'casita' tiene una frecuencia de 1\n",
      "La palabra 'blanca' tiene una frecuencia de 1\n",
      "La palabra 'ventana' tiene una frecuencia de 1\n"
     ]
    }
   ],
   "source": [
    "texto= \"había una vez una gata con una manchita negra en la trompa, y vivía en una casita blanca con una ventana...\"\n",
    "\n",
    "quitar = \",;:.\\n!\\\"'\"\n",
    "for caracter in quitar:\n",
    "    texto = texto.replace(caracter, \"\")\n",
    "\n",
    "texto = texto.lower()\n",
    "palabras = texto.split(\" \")\n",
    "\n",
    "frecuencia_palabras = dict()\n",
    "for palabra in palabras:\n",
    "    if palabra in frecuencia_palabras:\n",
    "        frecuencia_palabras[palabra]+=1\n",
    "    else:\n",
    "        frecuencia_palabras[palabra]=1\n",
    "\n",
    "for palabra in frecuencia_palabras:\n",
    "    frecuencia = frecuencia_palabras[palabra]\n",
    "    print(f\"La palabra '{palabra}' tiene una frecuencia de {frecuencia}\")"
   ]
  },
  {
   "cell_type": "markdown",
   "metadata": {},
   "source": [
    "## Exercici 4\n",
    "Diccionari invers.\n",
    "\n",
    "Resulta que el client té una enquesta molt antiga que s'emmagatzema en un diccionari i els resultats   \n",
    "els necessita al revés, és a dir, intercanviats les claus i els valors. Els valors i claus en el diccionari   \n",
    "original són únics; si aquest no és el cas, la funció hauria d'imprimir un missatge d'advertiment."
   ]
  },
  {
   "cell_type": "markdown",
   "metadata": {},
   "source": [
    "Comentarios:  \n",
    "En este caso he escrito un diccionario original para testear el código.   \n",
    "En el paso de \"if len...\" lo que estoy haciendo es comparar la longitud del conjunto de valores únicos   \n",
    "con la longitud de todos los valores. Si no son iguales, significa que hay valores duplicados y se lanza   \n",
    "un error (ValueError) con un mensaje indicando que los valores no son únicos.\n",
    "Si al ejemplo que he puesto le cambiamos el valor a precio y colocamos un 2, nos salta el error."
   ]
  },
  {
   "cell_type": "markdown",
   "metadata": {},
   "source": [
    "En este caso he encontrado ayuda sobre cómo hacerlo en:  \n",
    "https://www.delftstack.com/es/howto/python/python-invert-a-dictionary/#google_vignette"
   ]
  },
  {
   "cell_type": "code",
   "execution_count": 24,
   "metadata": {},
   "outputs": [
    {
     "name": "stdout",
     "output_type": "stream",
     "text": [
      "{'rojo': 'color', 2: 'cantidad', 3: 'precio'}\n"
     ]
    }
   ],
   "source": [
    "\n",
    "dic = {\"color\": \"rojo\", \"cantidad\": 2, \"precio\": 3}\n",
    "\n",
    "if len(dic.values()) != len(set(dic.values())):\n",
    "    raise ValueError(\"Los valores en el diccionario no son únicos por lo que no podemos alterar el orden\")\n",
    "\n",
    "dic_invertido = {v: k for k, v in dic.items()}\n",
    "print(dic_invertido)  "
   ]
  },
  {
   "cell_type": "markdown",
   "metadata": {},
   "source": [
    "## NIVEL 2\n",
    "## Exercici 1\n",
    "Diccionari invers amb duplicats\n",
    "\n",
    "Continuant amb l'exercici 4 del nivell 1: al client es va oblidar de comentar un detall i resulta que els valors en el diccionari original poden duplicar-se i més, per la qual cosa les claus intercanviades poden tenir duplicats. En tals casos, els valors del diccionari resultant hauran d'emmagatzemar-se com una llista. Tingues en compte que un valor únic no ha de ser una llista."
   ]
  },
  {
   "cell_type": "markdown",
   "metadata": {},
   "source": [
    "Comentarios:  \n",
    "En este caso al encontrarse con dos valores iguales al invertir claves por valores, lo que necesitamos es que en lugar de colocar el último valor repetido de la clave nos indique en formato lista cuáles son los valores repetidos.  \n",
    "Para ello vamos a importar del módulo collections la función defalutdict() que nos permite manipular los valores de un diccionario Python.  \n",
    "En este ejercicio para que el resultado lo muestre como lista únicamente en el caso en que haya repetida un valor al transformarse en clave he realizado un condicional. El ejemplo es el caso del número dos (que es el mismo para cantidad y precio) y 1996 (que es el mismo para fabricado y año_invención)"
   ]
  },
  {
   "cell_type": "code",
   "execution_count": 52,
   "metadata": {},
   "outputs": [
    {
     "name": "stdout",
     "output_type": "stream",
     "text": [
      "{'rojo': 'color', 2: ['cantidad', 'precio'], 1996: ['fabricado', 'año_invencion'], 5: 3}\n"
     ]
    }
   ],
   "source": [
    "articulos = {\"color\": \"rojo\", \"cantidad\": 2, \"precio\": 2, \"fabricado\" : 1996, \"año_invencion\": 1996, 3 : 5}\n",
    "\n",
    "from collections import defaultdict\n",
    "\n",
    "articulos_invertido = defaultdict(list)\n",
    "\n",
    "for k, v in articulos.items():\n",
    "    if list(articulos.values()).count(v) > 1:\n",
    "        articulos_invertido[v].append(k)\n",
    "    else:\n",
    "        articulos_invertido[v] = k\n",
    "\n",
    "result = dict(articulos_invertido)\n",
    "\n",
    "dic_invertido = {v: k for k, v in dic.items()} \n",
    "print(result)\n"
   ]
  },
  {
   "cell_type": "markdown",
   "metadata": {},
   "source": [
    "## Exercici 2  \n",
    "## Conversió de tipus de dades  \n",
    "\n",
    "El client rep una llista de dades i necessita generar dues llistes, la primera on estaran tots els elements que es van poder convertir en flotants i l'altra on estan els elements que no es van poder convertir. Exemple de la llista que rep el client: [ '1.3', 'one' , '1e10' , 'seven', '3-1/2', ('2',1,1.4,'not-a-number'), [1,2,'3','3.4']]"
   ]
  },
  {
   "cell_type": "markdown",
   "metadata": {},
   "source": [
    "Comentarios:  \n",
    "En este ejercicio entiendo que por flotants han querido decir floats y que lo que se busca es evaluar cada uno de los datos se puede convertir en flotante o no y en base a eso colocarlos en dos listas diferentes.   \n",
    "He consultado con la tutora y me ha informado que hay que \"desarmar\" la tupla y la lista y luego evaluar cada uno de los datos.  \n",
    "Por ello he comenzado definiendo una una lista vacía para los elementos convertidos a flotante y otra para los que no se pueden convertir, que luego al iterar se irán completando.  \n",
    "Como paso siguiente he definido una función denominada procesar_elemento que es llamada dentro de sí misma para manejar elementos anidados dentro de tuplas o listas. Esto se hace de manera recursiva para garantizar que todos los elementos (independientemente de su nivel de anidamiento) sean tratados de la misma manera y se intenten convertir a flotantes.  \n",
    "Por otro lado definí una funcion llamada convertir_elementos_a_float que itera sobre cada elemento en la lista de datos.  \n",
    "Para cada elemento en datos, se llama a la función procesar_elemento para procesarlo.  \n",
    "Dentro de procesar_elemento, se verifica si el elemento es una tupla o una lista. Si lo es, se itera sobre cada subelemento y se llama recursivamente a procesar_elemento para procesarlo.  \n",
    "Si el elemento NO es una tupla o una lista, se intenta convertir a un flotante utilizando float(elemento). De lo que resulte se colocará en una u otra lista según se haya podido convertir o no en un float.\n",
    "\n",
    "\n"
   ]
  },
  {
   "cell_type": "code",
   "execution_count": 86,
   "metadata": {},
   "outputs": [
    {
     "name": "stdout",
     "output_type": "stream",
     "text": [
      "Elementos convertidos a flotantes: [1.3, 10000000000.0, 2.0, 1.0, 1.4, 1.0, 2.0, 3.0, 3.4]\n",
      "Elementos no convertidos: ['one', 'seven', '3-1/2', 'not-a-number']\n"
     ]
    }
   ],
   "source": [
    "datos = ['1.3', 'one', '1e10', 'seven', '3-1/2', ('2', 1, 1.4, 'not-a-number'), [1, 2, '3', '3.4']]\n",
    "\n",
    "def convertir_elementos_a_float(datos):\n",
    "    elementos_convertidos = []\n",
    "    elementos_no_convertidos = []\n",
    "\n",
    "    def procesar_elemento(elemento):\n",
    "        if isinstance(elemento, (tuple, list)):\n",
    "            for subelemento in elemento:\n",
    "                procesar_elemento(subelemento)\n",
    "        else:\n",
    "            try:\n",
    "                num = float(elemento)\n",
    "                elementos_convertidos.append(num)\n",
    "            except ValueError:\n",
    "                elementos_no_convertidos.append(elemento)\n",
    "\n",
    "    for elemento in datos:\n",
    "        procesar_elemento(elemento)\n",
    "\n",
    "    return elementos_convertidos, elementos_no_convertidos\n",
    "\n",
    "elementos_convertidos, elementos_no_convertidos = convertir_elementos_a_float(datos)\n",
    "print(\"Elementos convertidos a flotantes:\", elementos_convertidos)\n",
    "print(\"Elementos no convertidos:\", elementos_no_convertidos)"
   ]
  },
  {
   "cell_type": "markdown",
   "metadata": {},
   "source": [
    "## NIVEL 3\n",
    "## Exercici 1\n",
    "\n",
    "Comptador i endreçador de paraules d'un text.\n",
    "\n",
    "El client va quedar content amb el comptador de paraules, però ara vol llegir arxius TXT i que calculi la freqüència de cada paraula ordenades dins de les entrades habituals del diccionari segons la lletra amb la qual comencen, és a dir, les claus han d'anar de la A a la Z i dins de la A hem d'anar de la A la Z. Per exemple, per a l'arxiu \"tu_me_quieres_blanca.txt\" la sortida esperada seria (imagen de texto tu me quieres blanca)\n",
    "\n"
   ]
  },
  {
   "cell_type": "markdown",
   "metadata": {},
   "source": [
    "Comentarios:  \n",
    "En este caso utilicé parte del código que he creado anteriormente. También me ha servido este video: https://www.youtube.com/watch?v=aSssAVajxHo   \n",
    "Para saber bien cómo leer un txt con Python, me ha servido mucho este otro vídeo: https://www.youtube.com/watch?v=UuiZQBx5QPM  \n",
    "Entonces como primer paso en nuestro ejercicio tengo que poder leer el texto \"tú me quieres blanca\" que tengo guardado en el ordenador en la misma carpeta en la que tengo guardado este archivo donde ejecuto el código.\n",
    "Luego quito los signos de puntuación y demás al igual que hemos hecho en el ejercicio anterior, recorriendo y limpiando el texto. Posteriormente he reemplazado los saltos de línea y los dobles espacios por un espacio simple.   \n",
    "Asimismo he convertido a minúsculas todo el texto y con la función sorted lo he ordenado por orden alfabético.\n",
    "Posteriormente he creado un diccionario denominado frecuencia_palabras en donde iremos agregando cada palabra e irá contando la cantidad de veces que aparece la misma en el texto.  \n",
    "Como paso siguiente, he creado un nuevo diccionario denominado listado_ordenado en el cual primero confirmamos si la primera letra de la palabra que será nuestra nueva clave ya existe o no, y una vez agregada lo que hace es incorporar todas las palabras_por_letra en ese listado que se incluye con formato diccionario también."
   ]
  },
  {
   "cell_type": "code",
   "execution_count": 126,
   "metadata": {},
   "outputs": [
    {
     "data": {
      "text/plain": [
       "{'a': {'a': 3,\n",
       "  'agua': 1,\n",
       "  'al': 2,\n",
       "  'alba': 4,\n",
       "  'alcobas': 1,\n",
       "  'alimenta': 1,\n",
       "  'alma': 1,\n",
       "  'amarga': 1,\n",
       "  'azucena': 1},\n",
       " 'b': {'baco': 1,\n",
       "  'banquete': 1,\n",
       "  'bebe': 1,\n",
       "  'blanca': 3,\n",
       "  'boca': 1,\n",
       "  'bosques': 1,\n",
       "  'buen': 1},\n",
       " 'c': {'cabañas': 1,\n",
       "  'carnes': 2,\n",
       "  'casta': 3,\n",
       "  'cerrada': 1,\n",
       "  'con': 4,\n",
       "  'conservas': 1,\n",
       "  'copas': 1,\n",
       "  'corola': 1,\n",
       "  'corriste': 1,\n",
       "  'cuando': 2,\n",
       "  'cubierto': 1,\n",
       "  'cuerpo': 1,\n",
       "  'cuáles': 1},\n",
       " 'd': {'de': 8, 'dejaste': 1, 'del': 1, 'diga': 1, 'dios': 2, 'duerme': 1},\n",
       " 'e': {'el': 4,\n",
       "  'ellas': 1,\n",
       "  'en': 4,\n",
       "  'engaño': 1,\n",
       "  'enredada': 1,\n",
       "  'entonces': 1,\n",
       "  'escarcha': 1,\n",
       "  'espumas': 1,\n",
       "  'esqueleto': 1,\n",
       "  'estrago': 1},\n",
       " 'f': {'festejando': 1, 'filtrado': 1, 'frutos': 1},\n",
       " 'h': {'habla': 1,\n",
       "  'hacia': 1,\n",
       "  'haya': 1,\n",
       "  'hayas': 1,\n",
       "  'hermana': 1,\n",
       "  'hombre': 1,\n",
       "  'hubiste': 1,\n",
       "  'huye': 1},\n",
       " 'i': {'intacto': 1},\n",
       " 'j': {'jardines': 1},\n",
       " 'l': {'la': 3,\n",
       "  'labios': 1,\n",
       "  'las': 7,\n",
       "  'lo': 2,\n",
       "  'los': 4,\n",
       "  'luna': 1,\n",
       "  'lévate': 1,\n",
       "  'límpiate': 1},\n",
       " 'm': {'mano': 1,\n",
       "  'manos': 1,\n",
       "  'margarita': 1,\n",
       "  'me': 10,\n",
       "  'mi': 1,\n",
       "  'mieles': 1,\n",
       "  'milagros': 1,\n",
       "  'mojada': 1,\n",
       "  'montaña': 1,\n",
       "  'morados': 1},\n",
       " 'n': {'negros': 1, 'ni': 2, 'no': 1, 'nácar': 1, 'nívea': 2},\n",
       " 'p': {'perdone': 2,\n",
       "  'perfume': 1,\n",
       "  'por': 2,\n",
       "  'pretendes': 3,\n",
       "  'preténdeme': 3,\n",
       "  'puesto': 1,\n",
       "  'pájaros': 1,\n",
       "  'pámpanos': 1},\n",
       " 'q': {'que': 6, 'quedó': 1, 'quieres': 6},\n",
       " 'r': {'rayo': 1, 'raíz': 1, 'renueva': 1, 'rocas': 1, 'rojo': 1},\n",
       " 's': {'salitre': 1, 'se': 2, 'sea': 1, 'sean': 1, 'sobre': 2, 'sé': 1},\n",
       " 't': {'te': 3,\n",
       "  'tejidos': 1,\n",
       "  'tenue': 1,\n",
       "  'tierra': 1,\n",
       "  'toca': 1,\n",
       "  'todas': 2,\n",
       "  'todavía': 1,\n",
       "  'tornadas': 1,\n",
       "  'tú': 8},\n",
       " 'u': {'un': 1, 'una': 1},\n",
       " 'v': {'vestido': 1, 'vete': 1, 'vive': 1},\n",
       " 'y': {'y': 5}}"
      ]
     },
     "execution_count": 126,
     "metadata": {},
     "output_type": "execute_result"
    }
   ],
   "source": [
    "with open (\"tu_me_quieres_blanca.txt\", encoding = 'utf-8') as file_object:\n",
    "    leer = file_object.read()\n",
    "\n",
    "quitar = \",;:.!()¡\\\"'\"\n",
    "for caracter in quitar:\n",
    "    leer = leer.replace(caracter, \"\")\n",
    "\n",
    "leer = leer.replace(\"\\n\", \" \")\n",
    "leer = leer.replace(\"  \", \" \")\n",
    "\n",
    "leer = leer.lower()\n",
    "palabras = leer.split(\" \")\n",
    "palabras = sorted(palabras)\n",
    "\n",
    "frecuencia_palabras = dict()\n",
    "for palabra in palabras:\n",
    "    if palabra in frecuencia_palabras:\n",
    "        frecuencia_palabras[palabra]+=1\n",
    "    elif palabra != \"\":\n",
    "        frecuencia_palabras[palabra]=1\n",
    "\n",
    "listado_ordenado = dict()\n",
    "for llave in frecuencia_palabras:\n",
    "    primera_letra = llave[0]\n",
    "    if primera_letra in listado_ordenado:\n",
    "        palabras_por_letra = listado_ordenado[primera_letra]\n",
    "        palabras_por_letra[llave] = frecuencia_palabras[llave]\n",
    "    else:\n",
    "        listado_ordenado[primera_letra] = {llave : frecuencia_palabras[llave]}\n",
    "listado_ordenado\n"
   ]
  }
 ],
 "metadata": {
  "kernelspec": {
   "display_name": "Python 3",
   "language": "python",
   "name": "python3"
  },
  "language_info": {
   "codemirror_mode": {
    "name": "ipython",
    "version": 3
   },
   "file_extension": ".py",
   "mimetype": "text/x-python",
   "name": "python",
   "nbconvert_exporter": "python",
   "pygments_lexer": "ipython3",
   "version": "3.12.2"
  }
 },
 "nbformat": 4,
 "nbformat_minor": 2
}
